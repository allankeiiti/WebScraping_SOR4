{
 "cells": [
  {
   "cell_type": "code",
   "execution_count": 1,
   "metadata": {},
   "outputs": [],
   "source": [
    "import pandas as pd\n",
    "# import requests\n",
    "from bs4 import BeautifulSoup"
   ]
  },
  {
   "cell_type": "code",
   "execution_count": 2,
   "metadata": {},
   "outputs": [],
   "source": [
    "res = requests.get('https://www.metacritic.com/game/playstation-4/streets-of-rage-4/user-reviews')"
   ]
  },
  {
   "cell_type": "code",
   "execution_count": 3,
   "metadata": {},
   "outputs": [],
   "source": [
    "file = open('sor4_20200502_user_reviews.html', mode='r', encoding='utf-8')\n",
    "page = file.read()\n",
    "file.close()"
   ]
  },
  {
   "cell_type": "code",
   "execution_count": 4,
   "metadata": {},
   "outputs": [],
   "source": [
    "soup = BeautifulSoup(page, 'html.parser')"
   ]
  },
  {
   "cell_type": "code",
   "execution_count": 5,
   "metadata": {},
   "outputs": [
    {
     "data": {
      "text/plain": [
       "<title>Read User Reviews and Submit your own for Streets of Rage 4 on PlayStation 4 - Metacritic</title>"
      ]
     },
     "execution_count": 5,
     "metadata": {},
     "output_type": "execute_result"
    }
   ],
   "source": [
    "soup.title"
   ]
  },
  {
   "cell_type": "code",
   "execution_count": 6,
   "metadata": {},
   "outputs": [
    {
     "data": {
      "text/plain": [
       "['score_counts', 'hover_none']"
      ]
     },
     "execution_count": 6,
     "metadata": {},
     "output_type": "execute_result"
    }
   ],
   "source": [
    "soup.ol['class']"
   ]
  },
  {
   "cell_type": "code",
   "execution_count": 7,
   "metadata": {},
   "outputs": [
    {
     "data": {
      "text/plain": [
       "8"
      ]
     },
     "execution_count": 7,
     "metadata": {},
     "output_type": "execute_result"
    }
   ],
   "source": [
    "len(soup.find_all('ol'))"
   ]
  },
  {
   "cell_type": "code",
   "execution_count": 8,
   "metadata": {},
   "outputs": [],
   "source": [
    "x = soup.find_all('ol')"
   ]
  },
  {
   "cell_type": "code",
   "execution_count": 9,
   "metadata": {},
   "outputs": [
    {
     "data": {
      "text/plain": [
       "1137"
      ]
     },
     "execution_count": 9,
     "metadata": {},
     "output_type": "execute_result"
    }
   ],
   "source": [
    "len(soup.find_all('div'))"
   ]
  },
  {
   "cell_type": "code",
   "execution_count": 10,
   "metadata": {},
   "outputs": [],
   "source": [
    "# Atribuindo os textos encontrados no Site ás variáveis reviews e grades e armazenando-os em uma lista\n",
    "reviews = [text_review.text for text_review in soup.find_all(\"div\", class_=\"review_body\")]\n",
    "grades = [int(grade.text) for grade in soup.find_all(\"div\", class_=\"review_grade\")]\n",
    "date = [grade.text for grade in soup.find_all(\"div\", class_=\"date\")]"
   ]
  },
  {
   "cell_type": "code",
   "execution_count": 11,
   "metadata": {},
   "outputs": [
    {
     "data": {
      "text/plain": [
       "list"
      ]
     },
     "execution_count": 11,
     "metadata": {},
     "output_type": "execute_result"
    }
   ],
   "source": [
    "type(reviews)"
   ]
  },
  {
   "cell_type": "code",
   "execution_count": 12,
   "metadata": {},
   "outputs": [
    {
     "data": {
      "text/plain": [
       "['\\nO melhor Streets of Rage de todos os tempos, gráficos, jogabilidade, quantidade de personagens, trilha sonora, modos de jogo, multiplayers ou seja um jogo completo.\\n',\n",
       " '\\nbest beat em up game ever made! gorgeous in every respect! spectacular!!!!!\\n',\n",
       " '\\nStreets of Rage 4 é a evolução da trilogia do mega drive, pega tudo do bom e de melhor dos jogos anteriores,inova em muitos aspectos e da um novo tapa no visual,alem de ser uma continuação,foi feito com muito carinho pra galera saudosista das antigas e ao mesmo tempo conseguem fazer algo extraordinário pra galera nova q nunca jogo um título da franquia na trilogia do mega drive.\\n',\n",
       " \"\\nStreets of Rage t's my favourite game series. SoR 4 best game ever! Best graphics, characters, soundtracks and multiplayer\\n\",\n",
       " '\\nExtremely nostalgic! The co-op mode is very good and the details are great! Thanks for that !\\n',\n",
       " '\\nstreet of rage 4 took me to the new age of youth and the joy of action in the form of Bruce Lee at that time. Thank you very much for this beautiful nostalgia.\\n',\n",
       " '\\nThe game surpassed my expectations.The graphics are perfect, the developers kept the SoR energy, the music is perfect, the game is extremely fun.Gameplay is solid, enemies actually have brain and interesting abilities, the new characters are amazing!\\n',\n",
       " \"\\nI've been smiling ear to ear every second I've played. Truly deserving of the Streets of Rage title and worth the painfully long wait.\\n\",\n",
       " '\\nStreet of Rage вернулся во всей своей красе! Стоит отдать должное разработчикам - проделана скрупулёзная работа, начиная с арта, приятной общей визуальной картинки, музыкальной составляющей в духе лучших частей серии (ещё бы, привлекли создателя с первых двух частей) и заканчивая бережным сохранением старых механик и грамотным привнесением новых, при этом ничего не сломав по пути. ВиднаStreet of Rage вернулся во всей своей красе! Стоит отдать должное разработчикам - проделана скрупулёзная работа, начиная с арта, приятной общей визуальной картинки, музыкальной составляющей в духе лучших частей серии (ещё бы, привлекли создателя с первых двух частей) и заканчивая бережным сохранением старых механик и грамотным привнесением новых, при этом ничего не сломав по пути. Видна любовь к наследию: в некоторых моментах просто хочется орать в голосину с отсылок на предыдущие части, ну и очевидный факт того, что добавили всех персонажей с предыдущих частей со всеми механиками. Лучшего продолжения и пожелать сложно. Об оптимизации говорить глупо, всё работает как часы. Ставлю 10 и иду играть дальше!)\\n\\nPS: На низкие оценки от игроков можно просто не обращать внимания, так как это ньюкамерский вброс, а игра всё же делалась с большим упором на аудиторию не понаслышке знающую серию Street of rage… Expand\\n',\n",
       " '\\nThere was a huge expectation for this game because A) It\\'s SoR and B) It\\'s a Beat\\'em Up, a genre far forgotten by game studios (at least the B\\'em Ups we used to know).\\nBut SoR4 is more like a HD revamp of the previous iterations than a new approach.\\nThe art style is good although subjective - some people will dislike it. It\\'s a cartoony style that everybody saw on the trailers so itThere was a huge expectation for this game because A) It\\'s SoR and B) It\\'s a Beat\\'em Up, a genre far forgotten by game studios (at least the B\\'em Ups we used to know).\\nBut SoR4 is more like a HD revamp of the previous iterations than a new approach.\\nThe art style is good although subjective - some people will dislike it. It\\'s a cartoony style that everybody saw on the trailers so it should not be a surprise to anyone who purchases the game. I liked it. Animation is good but not excellent - but considering all the frames were hand draw, it\\'s a good job.\\n\\nDon\\'t get fooled by the new graphic revamp, though. This is a 90\\'s game, with all its perks and flaws. And some annoying flaws.\\n\\nWhy can\\'t I run? Characters move so slow that after the 2nd chapter it kinda feels like a chore. Battle is cumbersome too because it\\'s really slow to move and fight. Some characters have running though (Cherry), Adam has a Dash, so why not make the running a default move??\\n\\nAnd talking about moves, this edition lacks variety. You\\'ll find yourself mashing the punch button until the end. It\\'s boring. They could have added a lot of variety on the arsenal. The upgradeable specials are gone, stars are only used to measure how many specials you have. Gone also are the \"free\" specials like in SoR3 (when the special bar filled).\\nMy benchmark for move arsenal is still Double Dragon Advance, for the GBA. That little game is amazing, almost all combination of buttons gets you a different move. This should be used here in SoR4. It\\'s 2020, for goddamn sake.\\n\\nStory is a bit silly but not different from old Beat\\'em Ups so whatever.\\n\\nThere is hope for some improvements over updates (PLEASE make Running an option) or even new characters (don\\'t charge us extra on DLCs, don\\'t be greedy), but all in all, I felt a huge opportunity was missed.… Expand\\n',\n",
       " \"\\nTruly awful, I have never been so disappointed with a game purchase. The developers forgot to balance the game, deaths rarely feel fair. The entire game consists of enemies bouncing you to the other side of the screen, you spend ages trying to catch up to them with your painfully slow character. Rinse and repeat. To the developers, next time you feel like making a piece of garbage game,Truly awful, I have never been so disappointed with a game purchase. The developers forgot to balance the game, deaths rarely feel fair. The entire game consists of enemies bouncing you to the other side of the screen, you spend ages trying to catch up to them with your painfully slow character. Rinse and repeat. To the developers, next time you feel like making a piece of garbage game, please don't license a beloved property. Or better yet, never make another game again, because you are hacks.… Expand\\n\",\n",
       " '\\nBad choice of art style, reminds me of cheap flash games.gameplay slow and never feels like the 3 original masterpieces.definitely not worthy of Streets of Rage franchise license.\\n',\n",
       " '\\nGame is too repetitive, and the gameplay is slow for almost all the characters. Also, I didnt like the sound of fits and kicks from modern chars, it sounds empy, and you can see the difference with retro characters with a much better sound.\\n',\n",
       " '\\nno co op to 4 players online in 2020? The style is fine, the story is bad and some changes are good but it feels very mediocre.\\n',\n",
       " '\\nI grew up playing streets of rage. Streets of rage 4 is trash. Fuking waste of time and money\\n',\n",
       " '\\nLots of lag in the online mode, tons of things that need to be reworked. Health scaling for enemies makes them complete sponges in difficulties hardest and mania. Damage scaling for both enemies and players is an atrocious mess. Going back to use retro character models eliminates your ability to use the full move set and tech that comes along with the newer models make them obsolete inLots of lag in the online mode, tons of things that need to be reworked. Health scaling for enemies makes them complete sponges in difficulties hardest and mania. Damage scaling for both enemies and players is an atrocious mess. Going back to use retro character models eliminates your ability to use the full move set and tech that comes along with the newer models make them obsolete in comparison. The game came out on sale and for good reasoning. The enemies become very gimmicky as they get new variations throughout later levels, the game feels more like a jumping simulator than a beat em up. Sad to say that I did not find the game enjoyable after 7 play through. The music is very good, I did like some of the super power moves but the moves are extremely weak. They offer star bonuses for people to not use the stars but the bonus is so minuscule it’s best to use them.… Expand\\n',\n",
       " \"\\nThis is the sequel SOR fans have been waiting so long for! Everything that made the series great is here but with enough new features and style that it works in 2020. They havn't messed with the classic gameplay too much but the characters now have more distinct playstyles and moves. The level design is now more varied then ever with each level throwing new scenarios and surprises at theThis is the sequel SOR fans have been waiting so long for! Everything that made the series great is here but with enough new features and style that it works in 2020. They havn't messed with the classic gameplay too much but the characters now have more distinct playstyles and moves. The level design is now more varied then ever with each level throwing new scenarios and surprises at the player. The soundtrack is still great but maybe not as legendary as SO2. The graphics are a crisp comic book style, giving a slightly different feel to the gritty originals but again it looks modern and retro at the same time.\\n\\nSome may complain that the gameplay is repetitive but that didn't bother me back in day and it doesn't bother me now because it's so much fun to play and very repayable. I think this may have even surpassed SOR2 and in doing so has become the greatest scrolling beu ever!… Expand\\n\",\n",
       " \"\\nA perfect score might seem crazy for this game, but it earns it because it was absolutely everything I hoped it would be. I grew up in the golden age of beat'em ups, and Streets of Rage was always one of the best. This latest entry continued that legacy while also distinguishing itself as a unique experience rather than simply rehashing the old games. I played through the story with myA perfect score might seem crazy for this game, but it earns it because it was absolutely everything I hoped it would be. I grew up in the golden age of beat'em ups, and Streets of Rage was always one of the best. This latest entry continued that legacy while also distinguishing itself as a unique experience rather than simply rehashing the old games. I played through the story with my brother hoping it would recapture some of the great times we had playing it on our sega genesis as kids. It delivered in spades and it was an absolute blast! Can't wait to play through it again with the retro filter, music, and unlockable characters.… Expand\\n\",\n",
       " \"\\nI'm once again the same 7 year old kid who played Streets of Rage 2 and was blown away.\\nThanks Dotemu, Lizzard Cube and Guard Crush for bringing back the charm and joy of Old School to modern Tech. Thanks for bringing back the childhood days of this 35 year old guy.\\n\",\n",
       " '\\nLove it!  Plays exactly how it should play and has obviously been crafted with a lot of love for the originals.  Honestly can’t get enough of it... it’s got loads of replayability... I feel like they also got the difficulty just right with a progressive assist system if you’re stuck.   Also has 2 great soundtracks (a modern one and retro).  Only things I can nit-pick is that I didn’tLove it!  Plays exactly how it should play and has obviously been crafted with a lot of love for the originals.  Honestly can’t get enough of it... it’s got loads of replayability... I feel like they also got the difficulty just right with a progressive assist system if you’re stuck.   Also has 2 great soundtracks (a modern one and retro).  Only things I can nit-pick is that I didn’t always dig the art style on certain levels and some sound effects could have been a little better.  Apart from that though this is great value for money for anybody and a must-have if you were a fan of the originals.… Expand\\n',\n",
       " '\\nThe game is almost flawless to begin with AND contains various characters that have unique move sets that play different from another. They give you many extra modes, classic soundtrack swap, various video modes including a way to simulate CRT monitors/televisions. Characters from all of the previous titles, and coop/multiplayer modes.\\n\\nThis is one of the most generous games in recentThe game is almost flawless to begin with AND contains various characters that have unique move sets that play different from another. They give you many extra modes, classic soundtrack swap, various video modes including a way to simulate CRT monitors/televisions. Characters from all of the previous titles, and coop/multiplayer modes.\\n\\nThis is one of the most generous games in recent memory.\\n\\n(The only negative for me is the new art style, it is subjective though, and entirely personal preference)… Expand\\n',\n",
       " '\\nA classic retro game brought into the modern era with pretty much perfection. Outstanding job and a great game.. even for new gamers to the world of 2D scrolling fighters.\\n',\n",
       " '\\nOs gráficos estão muito bonitos e o jogo é  extremamente divertido e bem feito, uma continuação que faz jus aos seus predecessores.Parabéns a toda equipe envolvida.\\n',\n",
       " '\\nПравильное и отменное продолжение отличной игры детства, которое больше все же играет на ностальгии, но как же круто снова вернуться. Ничего лишнего, все как надо.\\n',\n",
       " '\\nit is really good game,I Love it.because the graphics and music is so great .you need to buy it.\\n',\n",
       " '\\n\\n            This review contains spoilers, click expand to view.\\n        \\nIts a good secuel, only need, a little bit solid history, and more enemies! More more more and more! Like the elevator of the 11 stage like street of rage 2 , but anyway its a good secuel Game with a good Sinergy.… Expand\\n',\n",
       " '\\nI’ve been waiting for this game for years and it was well worth it, still has the feel of the original (which I still play for time to time) but with a fresh flavour. It’s much harder than the original aswell but that’s not spoiling it for me. I love beat em ups and they just updated the best one ever.\\n',\n",
       " '\\nPerfect! Plays great on in arcade cab. Game flows. Seems like this dev team gets it to me. Weird how the ppl who did not like it gave such low scores but this is just what I expected, if not more. As an older gamer I love these modern take on retro games. remakes and sequels keep em coming.\\n',\n",
       " '\\nStreets of Rage 4 is an incredible return to the roots of the beat em up genre but with a modern twist that transforms the legacy and makes you feel that 26 years have not passed since the last game.\\n',\n",
       " \"\\nWow I'm impressed. They did a good job on this game. Usually beat em ups today feel very mindless and boring but this game manages to avoid that. The combat is fun and engaging to the point of addiction. I'm playing the game on the hardest difficulty and I'm not getting bored at all of playing the same stages over and over again. In fact I had to force myself to stop so I could get someWow I'm impressed. They did a good job on this game. Usually beat em ups today feel very mindless and boring but this game manages to avoid that. The combat is fun and engaging to the point of addiction. I'm playing the game on the hardest difficulty and I'm not getting bored at all of playing the same stages over and over again. In fact I had to force myself to stop so I could get some sleep for work.I honestly didnt expect to be that impressed simply because nobody seems to know how to make a fun beat em up nowadays. But they managed because thia game is really fun. It deserves the sor title.… Expand\\n\",\n",
       " '\\nPerfect. Perfect. Perfect. Perfect. Perfect. Perfect. Perfect. Perfect. Perfect.\\n',\n",
       " '\\nA revamp of the best side scrolling beat em ups of all time. They haven’t tried to reinvent the wheel because they didn’t need to. The same reason Rolex haven’t changed the day date since 1956, it works! The developers paid homage to the fans, this is a quality title done properly. Hats off to you gents.\\n',\n",
       " '\\nwonderful game, made with extreme love for fans, modern gameplay, intense, fast paced, everything we want!\\n',\n",
       " '\\nNot as good as Streets of Rage 3 aka Bare Knuckles 3. There is a charge attack but, the level up system(Stars) is gone and only one character can run and another can dash but the rest are too slow otherwise great game.\\n',\n",
       " '\\nThe original series were some of the first video games that really hooked me and made me the gamer I am today. The same feeling comes back playing Streets of Rage 4. The controls feel just like I remember and are extremely satisfying. The visual style is what the originals would have went with if they had the power back in the day and I love the upgraded visuals with the ability to applyThe original series were some of the first video games that really hooked me and made me the gamer I am today. The same feeling comes back playing Streets of Rage 4. The controls feel just like I remember and are extremely satisfying. The visual style is what the originals would have went with if they had the power back in the day and I love the upgraded visuals with the ability to apply filters for the retro look. It’s probably the best beat’em up EVER!!! Maybe I’m just feeling nostalgic but honestly you need to give this game a shot. It’s simple, button mashing goodness and it will be well worth your time.… Expand\\n',\n",
       " \"\\nFantastic art style and direction as well as old school combat make this well worth playing if you're into beat em up's. Each character has there own abilities and weakness to them.\\n\",\n",
       " '\\nThe aliens of 25 year later sequels. Not really but they really did a decent job on everything and it’s great to play.\\n',\n",
       " '\\n                                Streets of Rage 4 is a very good game, perfect for fans of the series and lovers of old-fashioned fighting games. It respects the identity of the famous saga while modernizing it. Its universe, its music and its careful and demanding gameplay offer a delicious experience that marks the return in beauty of Street of Rage. Jackpot!  \\n                            ',\n",
       " '\\n                                Streets of Rage 4 is a solid tribute to the genre it arguably helped shape, but this feels like more of the same with a fresh coat of paint rather than an all-out reinvention. What’s on offer here is reminiscent and nostalgic, and still a great time, but it ultimately lacks the oomph to elevate it beyond the games that came before it.\\n                            ',\n",
       " '\\n                                Streets of Rage 4 is an enchanting retro surprise, bursting onto the scene and overcoming many of the justified grievances fans might have with reviving such an esteemed property. The combat is fierce, the music is banging and its sense of style is simply marvellous.\\n                            ']"
      ]
     },
     "execution_count": 12,
     "metadata": {},
     "output_type": "execute_result"
    }
   ],
   "source": [
    "reviews"
   ]
  },
  {
   "cell_type": "code",
   "execution_count": 13,
   "metadata": {},
   "outputs": [],
   "source": [
    "import pandas as pd"
   ]
  },
  {
   "cell_type": "code",
   "execution_count": 14,
   "metadata": {},
   "outputs": [],
   "source": [
    "df_reviews = pd.DataFrame({'Reviews': reviews,\n",
    "                           'Notas': grades,\n",
    "                           'Data': date})"
   ]
  },
  {
   "cell_type": "code",
   "execution_count": 15,
   "metadata": {},
   "outputs": [],
   "source": [
    "x = df_reviews.Reviews.iloc[0]"
   ]
  },
  {
   "cell_type": "code",
   "execution_count": 16,
   "metadata": {},
   "outputs": [
    {
     "data": {
      "text/plain": [
       "'\\nO melhor Streets of Rage de todos os tempos, gráficos, jogabilidade, quantidade de personagens, trilha sonora, modos de jogo, multiplayers ou seja um jogo completo.\\n'"
      ]
     },
     "execution_count": 16,
     "metadata": {},
     "output_type": "execute_result"
    }
   ],
   "source": [
    "x"
   ]
  },
  {
   "cell_type": "code",
   "execution_count": 17,
   "metadata": {},
   "outputs": [
    {
     "data": {
      "text/html": [
       "<div>\n",
       "<style scoped>\n",
       "    .dataframe tbody tr th:only-of-type {\n",
       "        vertical-align: middle;\n",
       "    }\n",
       "\n",
       "    .dataframe tbody tr th {\n",
       "        vertical-align: top;\n",
       "    }\n",
       "\n",
       "    .dataframe thead th {\n",
       "        text-align: right;\n",
       "    }\n",
       "</style>\n",
       "<table border=\"1\" class=\"dataframe\">\n",
       "  <thead>\n",
       "    <tr style=\"text-align: right;\">\n",
       "      <th></th>\n",
       "      <th>Reviews</th>\n",
       "      <th>Notas</th>\n",
       "      <th>Data</th>\n",
       "    </tr>\n",
       "  </thead>\n",
       "  <tbody>\n",
       "    <tr>\n",
       "      <th>0</th>\n",
       "      <td>\\nO melhor Streets of Rage de todos os tempos,...</td>\n",
       "      <td>10</td>\n",
       "      <td>Apr 30, 2020</td>\n",
       "    </tr>\n",
       "    <tr>\n",
       "      <th>1</th>\n",
       "      <td>\\nbest beat em up game ever made! gorgeous in ...</td>\n",
       "      <td>10</td>\n",
       "      <td>Apr 30, 2020</td>\n",
       "    </tr>\n",
       "    <tr>\n",
       "      <th>2</th>\n",
       "      <td>\\nStreets of Rage 4 é a evolução da trilogia d...</td>\n",
       "      <td>10</td>\n",
       "      <td>Apr 30, 2020</td>\n",
       "    </tr>\n",
       "    <tr>\n",
       "      <th>3</th>\n",
       "      <td>\\nStreets of Rage t's my favourite game series...</td>\n",
       "      <td>10</td>\n",
       "      <td>Apr 30, 2020</td>\n",
       "    </tr>\n",
       "    <tr>\n",
       "      <th>4</th>\n",
       "      <td>\\nExtremely nostalgic! The co-op mode is very ...</td>\n",
       "      <td>10</td>\n",
       "      <td>Apr 30, 2020</td>\n",
       "    </tr>\n",
       "    <tr>\n",
       "      <th>5</th>\n",
       "      <td>\\nstreet of rage 4 took me to the new age of y...</td>\n",
       "      <td>10</td>\n",
       "      <td>Apr 30, 2020</td>\n",
       "    </tr>\n",
       "    <tr>\n",
       "      <th>6</th>\n",
       "      <td>\\nThe game surpassed my expectations.The graph...</td>\n",
       "      <td>10</td>\n",
       "      <td>Apr 30, 2020</td>\n",
       "    </tr>\n",
       "    <tr>\n",
       "      <th>7</th>\n",
       "      <td>\\nI've been smiling ear to ear every second I'...</td>\n",
       "      <td>10</td>\n",
       "      <td>Apr 30, 2020</td>\n",
       "    </tr>\n",
       "    <tr>\n",
       "      <th>8</th>\n",
       "      <td>\\nStreet of Rage вернулся во всей своей красе!...</td>\n",
       "      <td>10</td>\n",
       "      <td>Apr 30, 2020</td>\n",
       "    </tr>\n",
       "    <tr>\n",
       "      <th>28</th>\n",
       "      <td>\\nStreets of Rage 4 is an incredible return to...</td>\n",
       "      <td>9</td>\n",
       "      <td>Apr 30, 2020</td>\n",
       "    </tr>\n",
       "    <tr>\n",
       "      <th>12</th>\n",
       "      <td>\\nGame is too repetitive, and the gameplay is ...</td>\n",
       "      <td>0</td>\n",
       "      <td>Apr 30, 2020</td>\n",
       "    </tr>\n",
       "    <tr>\n",
       "      <th>16</th>\n",
       "      <td>\\nThis is the sequel SOR fans have been waitin...</td>\n",
       "      <td>9</td>\n",
       "      <td>Apr 30, 2020</td>\n",
       "    </tr>\n",
       "    <tr>\n",
       "      <th>26</th>\n",
       "      <td>\\nI’ve been waiting for this game for years an...</td>\n",
       "      <td>10</td>\n",
       "      <td>May  1, 2020</td>\n",
       "    </tr>\n",
       "    <tr>\n",
       "      <th>27</th>\n",
       "      <td>\\nPerfect! Plays great on in arcade cab. Game ...</td>\n",
       "      <td>10</td>\n",
       "      <td>May  1, 2020</td>\n",
       "    </tr>\n",
       "    <tr>\n",
       "      <th>29</th>\n",
       "      <td>\\nWow I'm impressed. They did a good job on th...</td>\n",
       "      <td>10</td>\n",
       "      <td>May  1, 2020</td>\n",
       "    </tr>\n",
       "    <tr>\n",
       "      <th>33</th>\n",
       "      <td>\\nNot as good as Streets of Rage 3 aka Bare Kn...</td>\n",
       "      <td>8</td>\n",
       "      <td>May  1, 2020</td>\n",
       "    </tr>\n",
       "    <tr>\n",
       "      <th>31</th>\n",
       "      <td>\\nA revamp of the best side scrolling beat em ...</td>\n",
       "      <td>9</td>\n",
       "      <td>May  1, 2020</td>\n",
       "    </tr>\n",
       "    <tr>\n",
       "      <th>32</th>\n",
       "      <td>\\nwonderful game, made with extreme love for f...</td>\n",
       "      <td>10</td>\n",
       "      <td>May  1, 2020</td>\n",
       "    </tr>\n",
       "    <tr>\n",
       "      <th>23</th>\n",
       "      <td>\\nПравильное и отменное продолжение отличной и...</td>\n",
       "      <td>10</td>\n",
       "      <td>May  1, 2020</td>\n",
       "    </tr>\n",
       "    <tr>\n",
       "      <th>34</th>\n",
       "      <td>\\nThe original series were some of the first v...</td>\n",
       "      <td>10</td>\n",
       "      <td>May  1, 2020</td>\n",
       "    </tr>\n",
       "    <tr>\n",
       "      <th>30</th>\n",
       "      <td>\\nPerfect. Perfect. Perfect. Perfect. Perfect....</td>\n",
       "      <td>10</td>\n",
       "      <td>May  1, 2020</td>\n",
       "    </tr>\n",
       "    <tr>\n",
       "      <th>22</th>\n",
       "      <td>\\nOs gráficos estão muito bonitos e o jogo é  ...</td>\n",
       "      <td>10</td>\n",
       "      <td>May  1, 2020</td>\n",
       "    </tr>\n",
       "    <tr>\n",
       "      <th>18</th>\n",
       "      <td>\\nI'm once again the same 7 year old kid who p...</td>\n",
       "      <td>10</td>\n",
       "      <td>May  1, 2020</td>\n",
       "    </tr>\n",
       "    <tr>\n",
       "      <th>19</th>\n",
       "      <td>\\nLove it!  Plays exactly how it should play a...</td>\n",
       "      <td>9</td>\n",
       "      <td>May  1, 2020</td>\n",
       "    </tr>\n",
       "    <tr>\n",
       "      <th>15</th>\n",
       "      <td>\\nLots of lag in the online mode, tons of thin...</td>\n",
       "      <td>0</td>\n",
       "      <td>May  1, 2020</td>\n",
       "    </tr>\n",
       "    <tr>\n",
       "      <th>14</th>\n",
       "      <td>\\nI grew up playing streets of rage. Streets o...</td>\n",
       "      <td>0</td>\n",
       "      <td>May  1, 2020</td>\n",
       "    </tr>\n",
       "    <tr>\n",
       "      <th>13</th>\n",
       "      <td>\\nno co op to 4 players online in 2020? The st...</td>\n",
       "      <td>4</td>\n",
       "      <td>May  1, 2020</td>\n",
       "    </tr>\n",
       "    <tr>\n",
       "      <th>11</th>\n",
       "      <td>\\nBad choice of art style, reminds me of cheap...</td>\n",
       "      <td>0</td>\n",
       "      <td>May  1, 2020</td>\n",
       "    </tr>\n",
       "    <tr>\n",
       "      <th>10</th>\n",
       "      <td>\\nTruly awful, I have never been so disappoint...</td>\n",
       "      <td>0</td>\n",
       "      <td>May  1, 2020</td>\n",
       "    </tr>\n",
       "    <tr>\n",
       "      <th>21</th>\n",
       "      <td>\\nA classic retro game brought into the modern...</td>\n",
       "      <td>9</td>\n",
       "      <td>May  1, 2020</td>\n",
       "    </tr>\n",
       "    <tr>\n",
       "      <th>20</th>\n",
       "      <td>\\nThe game is almost flawless to begin with AN...</td>\n",
       "      <td>9</td>\n",
       "      <td>May  2, 2020</td>\n",
       "    </tr>\n",
       "    <tr>\n",
       "      <th>24</th>\n",
       "      <td>\\nit is really good game,I Love it.because the...</td>\n",
       "      <td>10</td>\n",
       "      <td>May  2, 2020</td>\n",
       "    </tr>\n",
       "    <tr>\n",
       "      <th>25</th>\n",
       "      <td>\\n\\n            This review contains spoilers,...</td>\n",
       "      <td>10</td>\n",
       "      <td>May  2, 2020</td>\n",
       "    </tr>\n",
       "    <tr>\n",
       "      <th>35</th>\n",
       "      <td>\\nFantastic art style and direction as well as...</td>\n",
       "      <td>9</td>\n",
       "      <td>May  2, 2020</td>\n",
       "    </tr>\n",
       "    <tr>\n",
       "      <th>17</th>\n",
       "      <td>\\nA perfect score might seem crazy for this ga...</td>\n",
       "      <td>10</td>\n",
       "      <td>May  2, 2020</td>\n",
       "    </tr>\n",
       "    <tr>\n",
       "      <th>9</th>\n",
       "      <td>\\nThere was a huge expectation for this game b...</td>\n",
       "      <td>5</td>\n",
       "      <td>May  2, 2020</td>\n",
       "    </tr>\n",
       "    <tr>\n",
       "      <th>36</th>\n",
       "      <td>\\nThe aliens of 25 year later sequels. Not rea...</td>\n",
       "      <td>10</td>\n",
       "      <td>May  2, 2020</td>\n",
       "    </tr>\n",
       "  </tbody>\n",
       "</table>\n",
       "</div>"
      ],
      "text/plain": [
       "                                              Reviews  Notas          Data\n",
       "0   \\nO melhor Streets of Rage de todos os tempos,...     10  Apr 30, 2020\n",
       "1   \\nbest beat em up game ever made! gorgeous in ...     10  Apr 30, 2020\n",
       "2   \\nStreets of Rage 4 é a evolução da trilogia d...     10  Apr 30, 2020\n",
       "3   \\nStreets of Rage t's my favourite game series...     10  Apr 30, 2020\n",
       "4   \\nExtremely nostalgic! The co-op mode is very ...     10  Apr 30, 2020\n",
       "5   \\nstreet of rage 4 took me to the new age of y...     10  Apr 30, 2020\n",
       "6   \\nThe game surpassed my expectations.The graph...     10  Apr 30, 2020\n",
       "7   \\nI've been smiling ear to ear every second I'...     10  Apr 30, 2020\n",
       "8   \\nStreet of Rage вернулся во всей своей красе!...     10  Apr 30, 2020\n",
       "28  \\nStreets of Rage 4 is an incredible return to...      9  Apr 30, 2020\n",
       "12  \\nGame is too repetitive, and the gameplay is ...      0  Apr 30, 2020\n",
       "16  \\nThis is the sequel SOR fans have been waitin...      9  Apr 30, 2020\n",
       "26  \\nI’ve been waiting for this game for years an...     10  May  1, 2020\n",
       "27  \\nPerfect! Plays great on in arcade cab. Game ...     10  May  1, 2020\n",
       "29  \\nWow I'm impressed. They did a good job on th...     10  May  1, 2020\n",
       "33  \\nNot as good as Streets of Rage 3 aka Bare Kn...      8  May  1, 2020\n",
       "31  \\nA revamp of the best side scrolling beat em ...      9  May  1, 2020\n",
       "32  \\nwonderful game, made with extreme love for f...     10  May  1, 2020\n",
       "23  \\nПравильное и отменное продолжение отличной и...     10  May  1, 2020\n",
       "34  \\nThe original series were some of the first v...     10  May  1, 2020\n",
       "30  \\nPerfect. Perfect. Perfect. Perfect. Perfect....     10  May  1, 2020\n",
       "22  \\nOs gráficos estão muito bonitos e o jogo é  ...     10  May  1, 2020\n",
       "18  \\nI'm once again the same 7 year old kid who p...     10  May  1, 2020\n",
       "19  \\nLove it!  Plays exactly how it should play a...      9  May  1, 2020\n",
       "15  \\nLots of lag in the online mode, tons of thin...      0  May  1, 2020\n",
       "14  \\nI grew up playing streets of rage. Streets o...      0  May  1, 2020\n",
       "13  \\nno co op to 4 players online in 2020? The st...      4  May  1, 2020\n",
       "11  \\nBad choice of art style, reminds me of cheap...      0  May  1, 2020\n",
       "10  \\nTruly awful, I have never been so disappoint...      0  May  1, 2020\n",
       "21  \\nA classic retro game brought into the modern...      9  May  1, 2020\n",
       "20  \\nThe game is almost flawless to begin with AN...      9  May  2, 2020\n",
       "24  \\nit is really good game,I Love it.because the...     10  May  2, 2020\n",
       "25  \\n\\n            This review contains spoilers,...     10  May  2, 2020\n",
       "35  \\nFantastic art style and direction as well as...      9  May  2, 2020\n",
       "17  \\nA perfect score might seem crazy for this ga...     10  May  2, 2020\n",
       "9   \\nThere was a huge expectation for this game b...      5  May  2, 2020\n",
       "36  \\nThe aliens of 25 year later sequels. Not rea...     10  May  2, 2020"
      ]
     },
     "execution_count": 17,
     "metadata": {},
     "output_type": "execute_result"
    }
   ],
   "source": [
    "df_reviews = df_reviews.head(len(df_reviews) - 3)\n",
    "df_reviews.sort_values(by='Data')"
   ]
  },
  {
   "cell_type": "code",
   "execution_count": 18,
   "metadata": {},
   "outputs": [],
   "source": [
    "# Resetando o índice do DataFrame para não mostrar o Aviso \"SettingWithCopyWarning\"\n",
    "df_reviews = df_reviews.reset_index()\n",
    "del df_reviews['index']"
   ]
  },
  {
   "cell_type": "code",
   "execution_count": 19,
   "metadata": {},
   "outputs": [],
   "source": [
    "# Higienizando dados\n",
    "regex_tags = ['\\n', '\\b']\n",
    "for regex_tag in regex_tags:\n",
    "    df_reviews['Reviews'] = df_reviews.Reviews.str.replace(regex_tag, '')"
   ]
  },
  {
   "cell_type": "code",
   "execution_count": 20,
   "metadata": {},
   "outputs": [
    {
     "data": {
      "text/html": [
       "<div>\n",
       "<style scoped>\n",
       "    .dataframe tbody tr th:only-of-type {\n",
       "        vertical-align: middle;\n",
       "    }\n",
       "\n",
       "    .dataframe tbody tr th {\n",
       "        vertical-align: top;\n",
       "    }\n",
       "\n",
       "    .dataframe thead th {\n",
       "        text-align: right;\n",
       "    }\n",
       "</style>\n",
       "<table border=\"1\" class=\"dataframe\">\n",
       "  <thead>\n",
       "    <tr style=\"text-align: right;\">\n",
       "      <th></th>\n",
       "      <th>Reviews</th>\n",
       "      <th>Notas</th>\n",
       "      <th>Data</th>\n",
       "    </tr>\n",
       "  </thead>\n",
       "  <tbody>\n",
       "    <tr>\n",
       "      <th>0</th>\n",
       "      <td>O melhor Streets of Rage de todos os tempos, g...</td>\n",
       "      <td>10</td>\n",
       "      <td>Apr 30, 2020</td>\n",
       "    </tr>\n",
       "    <tr>\n",
       "      <th>1</th>\n",
       "      <td>best beat em up game ever made! gorgeous in ev...</td>\n",
       "      <td>10</td>\n",
       "      <td>Apr 30, 2020</td>\n",
       "    </tr>\n",
       "    <tr>\n",
       "      <th>2</th>\n",
       "      <td>Streets of Rage 4 é a evolução da trilogia do ...</td>\n",
       "      <td>10</td>\n",
       "      <td>Apr 30, 2020</td>\n",
       "    </tr>\n",
       "    <tr>\n",
       "      <th>3</th>\n",
       "      <td>Streets of Rage t's my favourite game series. ...</td>\n",
       "      <td>10</td>\n",
       "      <td>Apr 30, 2020</td>\n",
       "    </tr>\n",
       "    <tr>\n",
       "      <th>4</th>\n",
       "      <td>Extremely nostalgic! The co-op mode is very go...</td>\n",
       "      <td>10</td>\n",
       "      <td>Apr 30, 2020</td>\n",
       "    </tr>\n",
       "  </tbody>\n",
       "</table>\n",
       "</div>"
      ],
      "text/plain": [
       "                                             Reviews  Notas          Data\n",
       "0  O melhor Streets of Rage de todos os tempos, g...     10  Apr 30, 2020\n",
       "1  best beat em up game ever made! gorgeous in ev...     10  Apr 30, 2020\n",
       "2  Streets of Rage 4 é a evolução da trilogia do ...     10  Apr 30, 2020\n",
       "3  Streets of Rage t's my favourite game series. ...     10  Apr 30, 2020\n",
       "4  Extremely nostalgic! The co-op mode is very go...     10  Apr 30, 2020"
      ]
     },
     "execution_count": 20,
     "metadata": {},
     "output_type": "execute_result"
    }
   ],
   "source": [
    "df_reviews.head()"
   ]
  },
  {
   "cell_type": "code",
   "execution_count": null,
   "metadata": {},
   "outputs": [],
   "source": []
  },
  {
   "cell_type": "code",
   "execution_count": 25,
   "metadata": {},
   "outputs": [],
   "source": [
    "# # Traduzindo as Reviews para o PT-BR\n",
    "# # Não consigo fazer funcionar 03/05/2020\n",
    "# from googletrans import Translator\n",
    "# translator = Translator(service_urls='https://translate.google.com.br/?hl=pt-BR')"
   ]
  }
 ],
 "metadata": {
  "kernelspec": {
   "display_name": "Python 3",
   "language": "python",
   "name": "python3"
  },
  "language_info": {
   "codemirror_mode": {
    "name": "ipython",
    "version": 3
   },
   "file_extension": ".py",
   "mimetype": "text/x-python",
   "name": "python",
   "nbconvert_exporter": "python",
   "pygments_lexer": "ipython3",
   "version": "3.7.3"
  }
 },
 "nbformat": 4,
 "nbformat_minor": 4
}
