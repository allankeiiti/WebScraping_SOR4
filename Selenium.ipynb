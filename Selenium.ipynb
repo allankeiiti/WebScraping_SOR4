{
 "cells": [
  {
   "cell_type": "markdown",
   "metadata": {},
   "source": [
    "# Selenium WebDriver test\n",
    "#### Este Notebook possui as rotinas executadas para atualizar os arquivos HTML das páginas do de Avaliação do Usuário do Site MetaCritic em cima do Jogo Streets Of Rage 4. Já que não obtive sucesso utilizando as bibliotecas Request e urllib"
   ]
  },
  {
   "cell_type": "code",
   "execution_count": 14,
   "metadata": {},
   "outputs": [],
   "source": [
    "from selenium import webdriver\n",
    "import os\n",
    "import time\n",
    "browser = webdriver.Chrome(f'{os.getcwd()}\\WebScraping\\chromedriver.exe')"
   ]
  },
  {
   "cell_type": "code",
   "execution_count": 27,
   "metadata": {},
   "outputs": [],
   "source": [
    "platforms = ['playstation-4', 'xbox-one', 'pc', 'switch']\n",
    "for platform in platforms:\n",
    "    browser.get('https://www.metacritic.com/game/playstation-4/streets-of-rage-4/user-reviews')\n",
    "    content = browser.page_source\n",
    "    with open(fr'{os.getcwd()}\\WebScraping\\webpage_{platform}.html', 'w', encoding='utf8') as f:\n",
    "        f.write(content)\n",
    "    time.sleep(60)"
   ]
  }
 ],
 "metadata": {
  "kernelspec": {
   "display_name": "Python 3",
   "language": "python",
   "name": "python3"
  },
  "language_info": {
   "codemirror_mode": {
    "name": "ipython",
    "version": 3
   },
   "file_extension": ".py",
   "mimetype": "text/x-python",
   "name": "python",
   "nbconvert_exporter": "python",
   "pygments_lexer": "ipython3",
   "version": "3.7.3"
  }
 },
 "nbformat": 4,
 "nbformat_minor": 4
}
